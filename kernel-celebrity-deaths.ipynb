{
 "cells": [
  {
   "cell_type": "markdown",
   "metadata": {},
   "source": [
    "# Data Analysis & Visualizations: celebrity deaths from 2006 to 2016"
   ]
  },
  {
   "cell_type": "markdown",
   "metadata": {},
   "source": [
    "Today we'll explore quite a positive dataset - Celebrity Deaths from 2006 to 2016. \n",
    "To make it less tragic, I am going to use two beautiful ggplot2 color palettes; plus all data manipulation will be created using amazing dplyr package.\n",
    "\n",
    "During the second part of the analysis, I will share a great alternative way to visualize missing values using ggplot (credits to Nicholas Tierney).\n",
    "\n",
    "Part three will include and reasons why we should not ignore missing values in this dataset."
   ]
  },
  {
   "cell_type": "markdown",
   "metadata": {},
   "source": [
    "## Plan of action\n",
    "1. Overview and \"death dynamics\".\n",
    "2. Missing data.\n",
    "3. The most frequent cause of death: false conclusions?\n"
   ]
  },
  {
   "cell_type": "markdown",
   "metadata": {},
   "source": [
    "## 1. Overview and \"death dynamics\""
   ]
  },
  {
   "cell_type": "code",
   "execution_count": 8,
   "metadata": {
    "collapsed": false,
    "scrolled": true
   },
   "outputs": [
    {
     "data": {
      "text/html": [
       "<table>\n",
       "<thead><tr><th scope=col>age</th><th scope=col>birth_year</th><th scope=col>cause_of_death</th><th scope=col>death_month</th><th scope=col>death_year</th><th scope=col>famous_for</th><th scope=col>name</th><th scope=col>nationality</th><th scope=col>fame_score</th></tr></thead>\n",
       "<tbody>\n",
       "\t<tr><td>85                                                  </td><td>1921                                                </td><td> natural causes                                     </td><td>January                                             </td><td>2006                                                </td><td> businessman chairman of IBM (1973‰ÛÒ1981)          </td><td>Frank Cary                                          </td><td>American                                            </td><td> 1                                                  </td></tr>\n",
       "\t<tr><td>49                                                  </td><td>1957                                                </td><td> murdered                                           </td><td>January                                             </td><td>2006                                                </td><td> musician (House of Freaks Gutterball)              </td><td>Bryan Harvey                                        </td><td>American                                            </td><td> 2                                                  </td></tr>\n",
       "\t<tr><td>64                                                  </td><td>1942                                                </td><td> Alzheimer's disease                                </td><td>January                                             </td><td>2006                                                </td><td> baseball player (Oakland Athletics)                </td><td>Paul Lindblad                                       </td><td>American                                            </td><td> 1                                                  </td></tr>\n",
       "\t<tr><td>86                                                  </td><td>1920                                                </td><td> Alzheimer's disease                                </td><td>January                                             </td><td>2006                                                </td><td> politician Representative from Oregon (1957‰ÛÒ1961)</td><td>Charles O. Porter                                   </td><td>American                                            </td><td> 2                                                  </td></tr>\n",
       "\t<tr><td>82                                                  </td><td>1924                                                </td><td> cancer                                             </td><td>January                                             </td><td>2006                                                </td><td> nightclub owner (Tropicana Club)                   </td><td>Ofelia Fox                                          </td><td>Cuban                                               </td><td>NA                                                  </td></tr>\n",
       "\t<tr><td>52                                                  </td><td>1954                                                </td><td> stroke                                             </td><td>January                                             </td><td>2006                                                </td><td> New Guinean politician Prime Minister (1997‰ÛÒ1999)</td><td>Sir William Skate                                   </td><td>Papua                                               </td><td>NA                                                  </td></tr>\n",
       "</tbody>\n",
       "</table>\n"
      ],
      "text/latex": [
       "\\begin{tabular}{r|lllllllll}\n",
       " age & birth\\_year & cause\\_of\\_death & death\\_month & death\\_year & famous\\_for & name & nationality & fame\\_score\\\\\n",
       "\\hline\n",
       "\t 85                                                   & 1921                                                 &  natural causes                                      & January                                              & 2006                                                 &  businessman chairman of IBM (1973‰ÛÒ1981)           & Frank Cary                                           & American                                             &  1                                                  \\\\\n",
       "\t 49                                                   & 1957                                                 &  murdered                                            & January                                              & 2006                                                 &  musician (House of Freaks Gutterball)               & Bryan Harvey                                         & American                                             &  2                                                  \\\\\n",
       "\t 64                                                   & 1942                                                 &  Alzheimer's disease                                 & January                                              & 2006                                                 &  baseball player (Oakland Athletics)                 & Paul Lindblad                                        & American                                             &  1                                                  \\\\\n",
       "\t 86                                                   & 1920                                                 &  Alzheimer's disease                                 & January                                              & 2006                                                 &  politician Representative from Oregon (1957‰ÛÒ1961) & Charles O. Porter                                    & American                                             &  2                                                  \\\\\n",
       "\t 82                                                   & 1924                                                 &  cancer                                              & January                                              & 2006                                                 &  nightclub owner (Tropicana Club)                    & Ofelia Fox                                           & Cuban                                                & NA                                                  \\\\\n",
       "\t 52                                                   & 1954                                                 &  stroke                                              & January                                              & 2006                                                 &  New Guinean politician Prime Minister (1997‰ÛÒ1999) & Sir William Skate                                    & Papua                                                & NA                                                  \\\\\n",
       "\\end{tabular}\n"
      ],
      "text/markdown": [
       "\n",
       "age | birth_year | cause_of_death | death_month | death_year | famous_for | name | nationality | fame_score | \n",
       "|---|---|---|---|---|---|\n",
       "| 85                                                   | 1921                                                 |  natural causes                                      | January                                              | 2006                                                 |  businessman chairman of IBM (1973‰ÛÒ1981)           | Frank Cary                                           | American                                             |  1                                                   | \n",
       "| 49                                                   | 1957                                                 |  murdered                                            | January                                              | 2006                                                 |  musician (House of Freaks Gutterball)               | Bryan Harvey                                         | American                                             |  2                                                   | \n",
       "| 64                                                   | 1942                                                 |  Alzheimer's disease                                 | January                                              | 2006                                                 |  baseball player (Oakland Athletics)                 | Paul Lindblad                                        | American                                             |  1                                                   | \n",
       "| 86                                                   | 1920                                                 |  Alzheimer's disease                                 | January                                              | 2006                                                 |  politician Representative from Oregon (1957‰ÛÒ1961) | Charles O. Porter                                    | American                                             |  2                                                   | \n",
       "| 82                                                   | 1924                                                 |  cancer                                              | January                                              | 2006                                                 |  nightclub owner (Tropicana Club)                    | Ofelia Fox                                           | Cuban                                                | NA                                                   | \n",
       "| 52                                                   | 1954                                                 |  stroke                                              | January                                              | 2006                                                 |  New Guinean politician Prime Minister (1997‰ÛÒ1999) | Sir William Skate                                    | Papua                                                | NA                                                   | \n",
       "\n",
       "\n"
      ],
      "text/plain": [
       "  age birth_year cause_of_death       death_month death_year\n",
       "1 85  1921        natural causes      January     2006      \n",
       "2 49  1957        murdered            January     2006      \n",
       "3 64  1942        Alzheimer's disease January     2006      \n",
       "4 86  1920        Alzheimer's disease January     2006      \n",
       "5 82  1924        cancer              January     2006      \n",
       "6 52  1954        stroke              January     2006      \n",
       "  famous_for                                           name             \n",
       "1  businessman chairman of IBM (1973ÛÒ1981)           Frank Cary       \n",
       "2  musician (House of Freaks Gutterball)               Bryan Harvey     \n",
       "3  baseball player (Oakland Athletics)                 Paul Lindblad    \n",
       "4  politician Representative from Oregon (1957ÛÒ1961) Charles O. Porter\n",
       "5  nightclub owner (Tropicana Club)                    Ofelia Fox       \n",
       "6  New Guinean politician Prime Minister (1997ÛÒ1999) Sir William Skate\n",
       "  nationality fame_score\n",
       "1 American     1        \n",
       "2 American     2        \n",
       "3 American     1        \n",
       "4 American     2        \n",
       "5 Cuban       NA        \n",
       "6 Papua       NA        "
      ]
     },
     "metadata": {},
     "output_type": "display_data"
    },
    {
     "name": "stdout",
     "output_type": "stream",
     "text": [
      "Classes 'tbl_df', 'tbl' and 'data.frame':\t21458 obs. of  9 variables:\n",
      " $ age           : int  85 49 64 86 82 52 31 31 55 70 ...\n",
      " $ birth_year    : int  1921 1957 1942 1920 1924 1954 1975 1975 1951 1936 ...\n",
      " $ cause_of_death: chr  \" natural causes\" \" murdered\" \" Alzheimer's disease\" \" Alzheimer's disease\" ...\n",
      " $ death_month   : chr  \"January\" \"January\" \"January\" \"January\" ...\n",
      " $ death_year    : int  2006 2006 2006 2006 2006 2006 2006 2006 2006 2006 ...\n",
      " $ famous_for    : chr  \" businessman chairman of IBM (1973ÛÒ1981)\" \" musician (House of Freaks Gutterball)\" \" baseball player (Oakland Athletics)\" \" politician Representative from Oregon (1957ÛÒ1961)\" ...\n",
      " $ name          : chr  \"Frank Cary\" \"Bryan Harvey\" \"Paul Lindblad\" \"Charles O. Porter\" ...\n",
      " $ nationality   : chr  \"American\" \"American\" \"American\" \"American\" ...\n",
      " $ fame_score    : int  1 2 1 2 NA NA 1 4 2 NA ...\n"
     ]
    }
   ],
   "source": [
    "# loading packages\n",
    "library(pacman)\n",
    "p_load(dplyr, stringr, reshape2, ggplot2, sqldf, extrafont, wesanderson)\n",
    "\n",
    "#importing dataset\n",
    "deathSet <- read.csv(\"C:/Users/Elena/Downloads/celebrity_deaths_4.csv/celebrity_deaths_4.csv\", \n",
    "                     na.strings = c(\"\", \"NA\"), stringsAsFactors = F) %>% tbl_df \n",
    "\n",
    "# first look\n",
    "head(deathSet)\n",
    "str(deathSet)"
   ]
  },
  {
   "cell_type": "markdown",
   "metadata": {},
   "source": [
    "In this first part, we are going to create bins for three key features and analyze resulting distributions while mixing them together.\n",
    "\n",
    "#### Key feature: death causes\n",
    "\n",
    "Ten categories should be enough here:\n",
    "- cancer\n",
    "- natural death\n",
    "- murder\n",
    "- Alzheimer or Parkinson (both have a late onset in person's life)\n",
    "- heart (includes heart attack/failure and cardiac arrest)\n",
    "- suicide\n",
    "- accident\n",
    "- other\n",
    "\n",
    "We also leave missing values as they are."
   ]
  },
  {
   "cell_type": "code",
   "execution_count": 9,
   "metadata": {
    "collapsed": false
   },
   "outputs": [],
   "source": [
    "# sql solution  \n",
    "deathSet <- sqldf(\"SELECT *,\n",
    "CASE \n",
    "  WHEN cause_of_death LIKE '%cancer%' OR 'leukemia' THEN 'cancer'\n",
    "  WHEN cause_of_death LIKE 'natural' OR '%sleep%' OR '%health%' THEN 'natural death' \n",
    "  WHEN cause_of_death LIKE '%murder%' OR 'shot' THEN 'murder'\n",
    "  WHEN cause_of_death LIKE '%Alzheimer%' OR '%Parkinson%' THEN 'Alzheimer or Parkinson'\n",
    "  WHEN cause_of_death LIKE '%heart%' OR '%stroke%' OR '%cardiac%' THEN 'heart'\n",
    "  WHEN cause_of_death LIKE '%suicide%' THEN 'suicide'\n",
    "  WHEN cause_of_death LIKE '%pneumonia%' OR '%respiratory%' THEN 'pneumonia'\n",
    "  WHEN cause_of_death LIKE '%crash%' OR '%accident%' OR '%fall%' OR '%collision%' OR '%car%' THEN 'accident'\n",
    "  WHEN cause_of_death IS NULL THEN NULL\n",
    "ELSE 'other' END AS cause_group\n",
    "FROM deathSet\")\n",
    "\n",
    "deathSet$cause_group <- factor(deathSet$cause_group)"
   ]
  },
  {
   "cell_type": "markdown",
   "metadata": {},
   "source": [
    "Let's now plot the distribution of cause of death for the given period:"
   ]
  },
  {
   "cell_type": "code",
   "execution_count": 10,
   "metadata": {
    "collapsed": false
   },
   "outputs": [
    {
     "data": {},
     "metadata": {},
     "output_type": "display_data"
    },
    {
     "data": {
      "image/png": "[encoded data removed]",
      "text/plain": [
       "plot without title"
      ]
     },
     "metadata": {},
     "output_type": "display_data"
    }
   ],
   "source": [
    "# text theme for every plot in this project\n",
    "text_theme <- theme(text = element_text(size = 10, \n",
    "                            family = \"Verdana\", \n",
    "                            face = \"italic\"),\n",
    "                  plot.title = element_text(hjust = 0.5))\n",
    "\n",
    "# color theme\n",
    "color_theme <- scale_fill_brewer(palette = \"RdYlBu\", \n",
    "                                 na.value = \"grey90\")\n",
    "                                  \n",
    "deathSet$death_year <- factor(deathSet$death_year)\n",
    "\n",
    "ggplot(deathSet, aes(x = death_year)) +\n",
    "  geom_bar(aes(fill = cause_group), \n",
    "           position = \"stack\",\n",
    "           alpha = 0.9) +\n",
    "  text_theme +\n",
    "  color_theme +\n",
    "  labs(title = \"Death causes per year\", \n",
    "       x = \"Year\", \n",
    "       y = \"Number of deaths\")"
   ]
  },
  {
   "cell_type": "markdown",
   "metadata": {},
   "source": [
    "We can be sure about at least three things here:\n",
    "\n",
    "First, there is a positive trend in celebrities' deaths, which went up from around 500 records at the end of 2006 to more than 3000 in 2016.\n",
    "\n",
    "Below is the exact number of celebrity deaths per year, if interested:"
   ]
  },
  {
   "cell_type": "code",
   "execution_count": 11,
   "metadata": {
    "collapsed": false
   },
   "outputs": [
    {
     "data": {
      "text/html": [
       "<table>\n",
       "<thead><tr><th scope=col>death_year</th><th scope=col>n</th></tr></thead>\n",
       "<tbody>\n",
       "\t<tr><td>2006</td><td> 440</td></tr>\n",
       "\t<tr><td>2007</td><td> 797</td></tr>\n",
       "\t<tr><td>2008</td><td>1157</td></tr>\n",
       "\t<tr><td>2009</td><td>1459</td></tr>\n",
       "\t<tr><td>2010</td><td>2023</td></tr>\n",
       "\t<tr><td>2011</td><td>2096</td></tr>\n",
       "\t<tr><td>2012</td><td>2151</td></tr>\n",
       "\t<tr><td>2013</td><td>2496</td></tr>\n",
       "\t<tr><td>2014</td><td>2891</td></tr>\n",
       "\t<tr><td>2015</td><td>2750</td></tr>\n",
       "\t<tr><td>2016</td><td>3198</td></tr>\n",
       "</tbody>\n",
       "</table>\n"
      ],
      "text/latex": [
       "\\begin{tabular}{r|ll}\n",
       " death\\_year & n\\\\\n",
       "\\hline\n",
       "\t 2006 &  440\\\\\n",
       "\t 2007 &  797\\\\\n",
       "\t 2008 & 1157\\\\\n",
       "\t 2009 & 1459\\\\\n",
       "\t 2010 & 2023\\\\\n",
       "\t 2011 & 2096\\\\\n",
       "\t 2012 & 2151\\\\\n",
       "\t 2013 & 2496\\\\\n",
       "\t 2014 & 2891\\\\\n",
       "\t 2015 & 2750\\\\\n",
       "\t 2016 & 3198\\\\\n",
       "\\end{tabular}\n"
      ],
      "text/markdown": [
       "\n",
       "death_year | n | \n",
       "|---|---|---|---|---|---|---|---|---|---|---|\n",
       "| 2006 |  440 | \n",
       "| 2007 |  797 | \n",
       "| 2008 | 1157 | \n",
       "| 2009 | 1459 | \n",
       "| 2010 | 2023 | \n",
       "| 2011 | 2096 | \n",
       "| 2012 | 2151 | \n",
       "| 2013 | 2496 | \n",
       "| 2014 | 2891 | \n",
       "| 2015 | 2750 | \n",
       "| 2016 | 3198 | \n",
       "\n",
       "\n"
      ],
      "text/plain": [
       "   death_year n   \n",
       "1  2006        440\n",
       "2  2007        797\n",
       "3  2008       1157\n",
       "4  2009       1459\n",
       "5  2010       2023\n",
       "6  2011       2096\n",
       "7  2012       2151\n",
       "8  2013       2496\n",
       "9  2014       2891\n",
       "10 2015       2750\n",
       "11 2016       3198"
      ]
     },
     "metadata": {},
     "output_type": "display_data"
    }
   ],
   "source": [
    "count(deathSet, death_year)"
   ]
  },
  {
   "cell_type": "markdown",
   "metadata": {},
   "source": [
    "Notice that the number of records from 2010 to 2012 do not change much: the 3 year difference is equal to 128 records. This is very low compared to the previous period, from 2009 to 2010, where there was an increase of nearly 600 deaths in a single year.\n",
    "\n",
    "Second, the amount of missing data obviously also increased over time. We can see that by looking at light-grey bars.\n",
    "\n",
    "Lastly, cancer seems to be the dominant known cause of death. Meanwhile, death by natural causes doesn't really show up in the last two years (2015 and 2016). Apparently, there were too many other ways to end the journey.\n",
    "\n",
    "#### Key variable: fame score\n",
    "\n",
    "It's always a good idea to first check the distribution:"
   ]
  },
  {
   "cell_type": "code",
   "execution_count": 12,
   "metadata": {
    "collapsed": false
   },
   "outputs": [
    {
     "data": {
      "text/plain": [
       "   Min. 1st Qu.  Median    Mean 3rd Qu.    Max.    NA's \n",
       "  1.000   2.000   4.000   8.624   8.000 695.000    1606 "
      ]
     },
     "metadata": {},
     "output_type": "display_data"
    }
   ],
   "source": [
    "summary(deathSet$fame_score)"
   ]
  },
  {
   "cell_type": "markdown",
   "metadata": {},
   "source": [
    "Let's convert NA's into the median values (not into the mean as it was pulled up by max value) and plot fame scores."
   ]
  },
  {
   "cell_type": "code",
   "execution_count": 13,
   "metadata": {
    "collapsed": false
   },
   "outputs": [
    {
     "name": "stderr",
     "output_type": "stream",
     "text": [
      "`stat_bin()` using `bins = 30`. Pick better value with `binwidth`.\n"
     ]
    },
    {
     "data": {},
     "metadata": {},
     "output_type": "display_data"
    },
    {
     "data": {
      "image/png": "[encoded data removed]",
      "text/plain": [
       "plot without title"
      ]
     },
     "metadata": {},
     "output_type": "display_data"
    }
   ],
   "source": [
    "# convert NA's into median value\n",
    "deathSet$fame_score[is.na(deathSet$fame_score)] <- median(deathSet$fame_score,\n",
    "                                                          na.rm = TRUE)\n",
    "# distribution of fame scores \n",
    "ggplot(deathSet, \n",
    "       aes(x = fame_score)) + \n",
    "  geom_histogram(fill = \"#8fbeff\", \n",
    "                 col = \"white\") +\n",
    "  geom_vline(aes(xintercept = median(deathSet$fame_score)), \n",
    "             col = \"yellow\",\n",
    "             size = 1) +\n",
    "  labs(title = \"Distribution of fame scores - right skewed\",\n",
    "       x = \"Fame scores\",\n",
    "       y = \"Frequency\") +\n",
    "  coord_cartesian(xlim = c(0, 150)) +\n",
    "  text_theme"
   ]
  },
  {
   "cell_type": "markdown",
   "metadata": {},
   "source": [
    "We could divide famous scores into 3 categories:\n",
    "- locally famous (below median)\n",
    "- famous (median and higher)\n",
    "- worldwide famous (two times median and higher)\n",
    "\n",
    "Let's do that:"
   ]
  },
  {
   "cell_type": "code",
   "execution_count": 14,
   "metadata": {
    "collapsed": true
   },
   "outputs": [],
   "source": [
    "# create bins < 5409, < 10818 and 10818 >\n",
    "deathSet$fame_group <- factor(findInterval(deathSet$fame_score, \n",
    "                                          c(0, 4, 8)))\n",
    "# assigning corresponding names\n",
    "levels(deathSet$fame_group) <- c(\"locally famous\", \"famous\", \"worldwide famous\")"
   ]
  },
  {
   "cell_type": "markdown",
   "metadata": {},
   "source": [
    "By the way, you are welcome to suggest your threshold for the classifier. This was just one way of doing it.\n",
    "\n",
    "Finally, let's check the composition of the fame_group column:"
   ]
  },
  {
   "cell_type": "code",
   "execution_count": 15,
   "metadata": {
    "collapsed": false
   },
   "outputs": [
    {
     "data": {},
     "metadata": {},
     "output_type": "display_data"
    },
    {
     "data": {
      "image/png": "[encoded data removed]",
      "text/plain": [
       "plot without title"
      ]
     },
     "metadata": {},
     "output_type": "display_data"
    }
   ],
   "source": [
    "# these palettes com from great wesanderson package\n",
    "color_theme2 <- scale_fill_manual(values = wes_palette(n = 3, \n",
    "                                                       name = \"Zissou\"))\n",
    "ggplot(deathSet, \n",
    "       aes(x = factor(1), \n",
    "           fill = fame_group)) +\n",
    "  geom_bar(width = 3) +\n",
    "  coord_polar(theta = \"y\") +\n",
    "  labs(fill= \"Fame group\") +\n",
    "  color_theme2 +\n",
    "  labs(title = \"Distribution (of deaths) per fame group\",\n",
    "       x = NULL,\n",
    "       y = NULL) +\n",
    "  text_theme"
   ]
  },
  {
   "cell_type": "markdown",
   "metadata": {},
   "source": [
    "As we can see, the majority of celebrities who died during these last ten years were locally famous.\n",
    "\n",
    "#### Key feature: celebrity age\n",
    "\n",
    "As always, let's check numbers first:"
   ]
  },
  {
   "cell_type": "code",
   "execution_count": 16,
   "metadata": {
    "collapsed": false
   },
   "outputs": [
    {
     "data": {
      "text/plain": [
       "   Min. 1st Qu.  Median    Mean 3rd Qu.    Max. \n",
       "      0      68      80      76      87     125 "
      ]
     },
     "metadata": {},
     "output_type": "display_data"
    }
   ],
   "source": [
    "summary(deathSet$age)"
   ]
  },
  {
   "cell_type": "markdown",
   "metadata": {},
   "source": [
    "Well, that's not right. Let's create age bins in order to manage ages a bit easier and sort non-relevant data:"
   ]
  },
  {
   "cell_type": "code",
   "execution_count": 17,
   "metadata": {
    "collapsed": true
   },
   "outputs": [],
   "source": [
    "# convert non relevant data into NA's\n",
    "deathSet$age[deathSet$age > 109 | deathSet$age < 20] <- NA\n",
    "\n",
    "# create bins [20, 40), [40, 60) and so on\n",
    "# last bin will be a bit bigger [80, 110) to make it more realistic\n",
    "deathSet$age_group <- factor(findInterval(deathSet$age, \n",
    "                                          c(20, 40, 60, 80, 110)))\n",
    "\n",
    "# \"unknown\" for those who were < 20 and 100 >=\n",
    "levels(deathSet$age_group) <- c(\"20-39\", \"40-59\", \"60-79\", \"80-109\")"
   ]
  },
  {
   "cell_type": "markdown",
   "metadata": {},
   "source": [
    "Let's see how fame groups are distributed per age categories:"
   ]
  },
  {
   "cell_type": "code",
   "execution_count": 18,
   "metadata": {
    "collapsed": false
   },
   "outputs": [
    {
     "data": {},
     "metadata": {},
     "output_type": "display_data"
    },
    {
     "data": {
      "image/png": "[encoded data removed]",
      "text/plain": [
       "plot without title"
      ]
     },
     "metadata": {},
     "output_type": "display_data"
    }
   ],
   "source": [
    "# creating a \"clean\" plot by removing NA's bar\n",
    "ggplot(subset(deathSet, !is.na(age_group)), \n",
    "       aes(x = reorder(age_group,\n",
    "                       age_group,\n",
    "                       function(x) -length(x)))) +\n",
    "  geom_bar(aes(fill = fame_group),\n",
    "           position = \"dodge\") +\n",
    "  text_theme +\n",
    "  color_theme2 +\n",
    "  labs(title = \"Fame groups by age category\", \n",
    "       x = \"Age groups\", \n",
    "       y = \"Number of deaths\")"
   ]
  },
  {
   "cell_type": "markdown",
   "metadata": {},
   "source": [
    "As we saw before locally famous people represent the majority, but in this case, they also lead almost each age category. This exception is the age category of 20-39 where the leading group is \"worldwide famous\" celebrities.\n",
    "\n",
    "Let's take only the worldwide famous group and compare two different age categories in it, below and above 60, by plotting death causes over the given period of time:"
   ]
  },
  {
   "cell_type": "code",
   "execution_count": null,
   "metadata": {
    "collapsed": true
   },
   "outputs": [],
   "source": [
    "# death causes for worldwide famous aged 60+\n",
    "ggplot(deathSet %>% filter(fame_group == \"worldwide famous\" & age_group == c(\"60-79\", \"80-99\")), \n",
    "       aes(x = death_year)) +\n",
    "  geom_bar(aes(fill = cause_group), \n",
    "           stat = \"count\") +\n",
    "  text_theme +\n",
    "  color_theme +\n",
    "  labs(title = \"Worldwide famous: death causes above 60\", \n",
    "       x = \"Age group\", \n",
    "       y = \"Number of deaths\") \n",
    "\n",
    "# death causes for worldwide famous for < 60\n",
    "ggplot(deathSet %>% filter(fame_group == \"worldwide famous\" & age_group == c(\"20-39\", \"40-59\")), \n",
    "       aes(x = death_year)) +\n",
    "  geom_bar(aes(fill = cause_group), \n",
    "           stat = \"count\") +\n",
    "  text_theme +\n",
    "  color_theme +\n",
    "  labs(title = \"Worldwide famous: death causes below 60\", \n",
    "       x = \"Age group\", \n",
    "       y = \"Number of deaths\") +\n",
    "  coord_cartesian(ylim = c(0, 180))"
   ]
  },
  {
   "cell_type": "markdown",
   "metadata": {},
   "source": [
    "Notice that I have created two plots on the same scale to avoid any misunderstanding.\n",
    "Worldwide celebrities under the age of 60 do not seem to have Alzheimer's/Parkinson's disease, this category is not even present, as both illnesses are age-related. On the other hand, suicides (years 2010 and 2011 particularly) are more prevalent for this age category.\n",
    "\n",
    "As for the celebrities at the age of above 60, we notice that accidents have two \"popular\" years - 2012 and 2014. And 2016 year is remarkable by the high rate of deaths from pneumonia, comparing to precedent years.\n",
    "\n",
    "For both plots, cancer and heart diseases are clear leaders. Though I would avoid concluding which of these causes is the main one.\n",
    "\n",
    "Below is quite an obvious plot, but it will make a great transition to the last part of this analysis."
   ]
  },
  {
   "cell_type": "code",
   "execution_count": null,
   "metadata": {
    "collapsed": true
   },
   "outputs": [],
   "source": [
    "ggplot(subset(deathSet, !is.na(age_group)), \n",
    "       aes(x = reorder(age_group,\n",
    "                       age_group,\n",
    "                       function(x) -length(x)))) +\n",
    "  geom_bar(aes(fill = cause_group), \n",
    "           stat = \"count\") +\n",
    "  text_theme +\n",
    "  color_theme +\n",
    "  labs(title = \"Too old to be alive\", \n",
    "       x = \"Age group\", \n",
    "       y = \"Number of deaths\")"
   ]
  },
  {
   "cell_type": "markdown",
   "metadata": {},
   "source": [
    "The majority of deaths happens at senior ages (at 60 +), which is not a surprise.\n",
    "\n",
    "What is interesting, though, is that we miss almost twice as much information about death causes for celebrities aged 80+ than for the 60-79 group. Notice that both are almost of the same size.\n",
    "\n",
    "Natural death and death from Alzheimer's/Parkinson's disease become more of a reality for elder celebrities aged 80-99, which is logical too.\n",
    "We also notice, that cancer seems to be a bigger problem for \"early\" seniors (age 60-79) than for other groups.\n",
    "\n",
    "### 2. Missing data\n",
    "\n",
    "As we have noticed before we lack quite a lot of data on the cause of death, but how much are we missing? There is a good alternative for Amelia missmap function suggested by Nicholas Tierney. I share his code below."
   ]
  },
  {
   "cell_type": "code",
   "execution_count": null,
   "metadata": {
    "collapsed": true
   },
   "outputs": [],
   "source": [
    "ggplot_missing <- function(x) {\n",
    "  x %>% \n",
    "    is.na %>%\n",
    "    melt %>%\n",
    "    ggplot(data = .,\n",
    "           aes(x = Var2,\n",
    "               y = Var1)) +\n",
    "    geom_raster(aes(fill = value)) +\n",
    "    scale_fill_grey(name = \"\",\n",
    "                    labels = c(\"Present\",\"Missing\")) +\n",
    "    theme_minimal() + \n",
    "    theme(axis.text.x  = element_text(angle = 45, vjust = 0.5)) + \n",
    "    labs(x = \"Variables in Dataset\",\n",
    "         y = \"Rows / observations\")\n",
    "}\n",
    "\n",
    "ggplot_missing(deathSet %>% \n",
    "                 select(-cause_of_death, -fame_score, -age))"
   ]
  },
  {
   "cell_type": "markdown",
   "metadata": {},
   "source": [
    "Wow! Apparently, more than 3/4 of the cause of death data is missing, which unfortunately might lead us to wrong conclusions.\n",
    "\n",
    "### 3. The most frequent cause of death: false conclusions?\n",
    "\n",
    "Suppose we want to know the most frequent cause of celebrity death for the given period:"
   ]
  },
  {
   "cell_type": "code",
   "execution_count": null,
   "metadata": {
    "collapsed": true
   },
   "outputs": [],
   "source": [
    "ggplot(deathSet, aes(x = reorder(cause_group, \n",
    "                                 cause_group, \n",
    "                                 function(x) length(x)))) +\n",
    "  geom_bar(aes(fill = cause_group), \n",
    "           stat = \"count\") +\n",
    "  text_theme +\n",
    "  color_theme +\n",
    "  labs(title = \"Cancer - the leading cause of death? \", \n",
    "       x = \"Causes of death\", \n",
    "       y = \"Number of deaths\") +\n",
    "  coord_flip() +\n",
    "  guides(fill = F)"
   ]
  },
  {
   "cell_type": "markdown",
   "metadata": {},
   "source": [
    "Even though the \"cancer\" seems to be a leader among known causes, we can not be sure that it is true in reality. It could not be a good idea to rush into conclusions, mostly for such a sensitive topic.\n",
    "\n",
    "We might not know (for now at least) if some information was hidden on purpose or it was a mis-crawled information, which is very possible, but let's suppose that at least 1/4 of missing data contains heart disease. In this case, the second most common cause easily takes the first place instead.\n",
    "\n",
    "Some may argue about remaining data that we have: it is still big enough to be indicative of the whole cause of death picture. But personally, I would not want to place a shadow on other death causes by highlighting the most frequent one.\n",
    "\n",
    "In order to obtain some certainty, we could try to improve the classifier of each category, minimizing the 'other' group. But again we would be left with a huge amount of missing data.\n",
    "\n",
    "So am I saying that we can not conclude anything, given this large amount of missing data? Of course not. We usually base an analysis on subsets of population. Otherwise, it would be simply unmanageable. The main point here, I think, is to examine every possibility, before jumping to conclusions.\n",
    "\n",
    "Datageekette"
   ]
  }
 ],
 "metadata": {
  "anaconda-cloud": {},
  "kernelspec": {
   "display_name": "R",
   "language": "R",
   "name": "ir"
  },
  "language_info": {
   "codemirror_mode": "r",
   "file_extension": ".r",
   "mimetype": "text/x-r-source",
   "name": "R",
   "pygments_lexer": "r",
   "version": "3.3.2"
  }
 },
 "nbformat": 4,
 "nbformat_minor": 1
}
