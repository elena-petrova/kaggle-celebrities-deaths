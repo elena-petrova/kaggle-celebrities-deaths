{
  "metadata": {
    "kernelspec": {
      "display_name": "R",
      "language": "R",
      "name": "ir"
    },
    "language_info": {
      "codemirror_mode": "r",
      "file_extension": ".r",
      "mimetype": "text/x-r-source",
      "name": "R",
      "pygments_lexer": "r",
      "version": "3.3.2"
    }
  },
  "nbformat": 4,
  "nbformat_minor": 0,
  "cells": [
    {
      "cell_type": "markdown",
      "source": "Today we’ll explore quite a positive dataset - Celebrity Deaths from 2006 to 2016. To make it less tragic, I am going to use two beautiful ggplot2 color palettes; plus all data manipulation will be created using amazing dplyr package.\n\nDuring the second part of the analysis, I will share a great alternative way to visualize missing values using ggplot (credits to Nicholas Tierney). \n\nPart three will include and reasons why we should not ignore missing values in this dataset.",
      "metadata": {}
    },
    {
      "cell_type": "markdown",
      "source": "**Plan of action**\n\n 1. Overview and \"death dynamics\".\n 2. Missing data.\n 3. The most frequent cause of death: false conclusions?",
      "metadata": {}
    },
    {
      "cell_type": "markdown",
      "source": "<h3> Overview and \"death dynamics\"</h3>",
      "metadata": {}
    },
    {
      "cell_type": "code",
      "source": "# loading packages\nlibrary(pacman)\np_load(dplyr, stringr, reshape2, ggplot2, sqldf, extrafont, wesanderson)\n\n#importing dataset\ndeathSet <- read.csv("https://github.com/elena-petrova/kaggle-celebrities-deaths/blob/master/celebrity_deaths_4.csv",\nna.strings = c(\"\", \"NA\"), \nstringsAsFactors = F) %>% tbl_df \n\n# first look\nhead(deathSet)\nstr(deathSet)",
      "execution_count": null,
      "outputs": [],
      "metadata": {}
    },
    {
      "cell_type": "markdown",
      "source": "In this first part, we are going to create bins for three key features and analyze resulting distributions while mixing them together.\n\n**1. Key feature: death causes** \n\nTen categories should be enough here: \n\n - cancer \n - natural death\n - murder\n - Alzheimer or Parkinson (both have a late onset in person's life)\n - heart (includes heart attack/failure and cardiac arrest)\n - suicide \n - accident\n - other\n\nWe also leave missing values as they are.",
      "metadata": {}
    },
    {
      "cell_type": "code",
      "source": "# sql solution  \noptions(warn = -1)\ndeathSet <- sqldf(\"SELECT *,\nCASE \n  WHEN cause_of_death LIKE '%cancer%' OR 'leukemia' THEN 'cancer'\n  WHEN cause_of_death LIKE 'natural' OR '%sleep%' OR '%health%' THEN 'natural death' \n  WHEN cause_of_death LIKE '%murder%' OR 'shot' THEN 'murder'\n  WHEN cause_of_death LIKE '%Alzheimer%' OR '%Parkinson%' THEN 'Alzheimer or Parkinson'\n  WHEN cause_of_death LIKE '%heart%' OR '%stroke%' OR '%cardiac%' THEN 'heart'\n  WHEN cause_of_death LIKE '%suicide%' THEN 'suicide'\n  WHEN cause_of_death LIKE '%pneumonia%' OR '%respiratory%' THEN 'pneumonia'\n  WHEN cause_of_death LIKE '%crash%' OR '%accident%' OR '%fall%' OR '%collision%' OR '%car%' THEN 'accident'\n  WHEN cause_of_death IS NULL THEN NULL\nELSE 'other' END AS cause_group\nFROM deathSet\")\n\ndeathSet$cause_group <- factor(deathSet$cause_group)",
      "execution_count": null,
      "outputs": [],
      "metadata": {}
    },
    {
      "cell_type": "markdown",
      "source": "Let's now plot the distribution of cause of death for the given period:",
      "metadata": {}
    },
    {
      "cell_type": "code",
      "source": "# text theme for every plot in this project\ntext_theme <- theme(text = element_text(size = 10, \n                            family = \"Verdana\", \n                            face = \"italic\"),\n                  plot.title = element_text(hjust = 0.5))\n\n# color theme\ncolor_theme <- scale_fill_brewer(palette = \"RdYlBu\", \n                                 na.value = \"grey90\")\n                                  \ndeathSet$death_year <- factor(deathSet$death_year)\n\nggplot(deathSet, aes(x = death_year)) +\n  geom_bar(aes(fill = cause_group), \n           position = \"stack\",\n           alpha = 0.9) +\n  text_theme +\n  color_theme +\n  labs(title = \"Death causes per year\", \n       x = \"Year\", \n       y = \"Number of deaths\")",
      "execution_count": null,
      "outputs": [],
      "metadata": {}
    },
    {
      "cell_type": "markdown",
      "source": "We can be sure about at least three things here:\n\nFirst, there is a positive trend in celebrities' deaths, which went up from around 500 records at the end of 2006 to more than 3000 in 2016.\n\nBelow is the exact number of celebrity deaths per year, if interested:",
      "metadata": {}
    },
    {
      "cell_type": "code",
      "source": "count(deathSet, death_year)",
      "execution_count": null,
      "outputs": [],
      "metadata": {}
    },
    {
      "cell_type": "markdown",
      "source": "Notice that the number of records from 2010 to 2012 do not change much: the 3 year difference is equal to 128 records. This is very low compared to the previous period, from 2009 to 2010, where there was an increase of nearly 600 deaths in a single year.\n\nSecond, the amount of missing data obviously also increased over time. We can see that by looking at light-grey bars.\n\nLastly, cancer seems to be the dominant  known cause of death. Meanwhile, death by natural causes doesn’t really show up in the last two years (2015 and 2016). Apparently, there were too many other ways to end the journey.",
      "metadata": {}
    },
    {
      "cell_type": "markdown",
      "source": "**2. Key variable: fame score**\n\nIt’s always a good idea to first check the distribution:",
      "metadata": {}
    },
    {
      "cell_type": "code",
      "source": "summary(deathSet$fame_score)",
      "execution_count": null,
      "outputs": [],
      "metadata": {}
    },
    {
      "cell_type": "markdown",
      "source": "Let's convert NA's into the median values (not into the mean as it was pulled up by max value) and plot fame scores. \n\n**Update: distribution of fame scores of version 4 differs from version 3.**",
      "metadata": {}
    },
    {
      "cell_type": "code",
      "source": "# convert NA's into median value\ndeathSet$fame_score[is.na(deathSet$fame_score)] <- median(deathSet$fame_score,\n                                                          na.rm = TRUE)\n# distribution of fame scores \nggplot(deathSet, \n       aes(x = fame_score)) + \n  geom_histogram(fill = \"#8fbeff\", \n                 col = \"white\") +\n  geom_vline(aes(xintercept = median(deathSet$fame_score)), \n             col = \"yellow\",\n             size = 1) +\n  labs(title = \"Distribution of fame scores - right skewed\",\n       x = \"Fame scores\",\n       y = \"Frequency\") +\n  coord_cartesian(xlim = c(0, 150)) +\n  text_theme",
      "execution_count": null,
      "outputs": [],
      "metadata": {}
    },
    {
      "cell_type": "markdown",
      "source": "We could divide famous scores into 3 categories:\n\n- locally famous (below median)\n- famous (median and higher)\n- worldwide famous (two times median and higher)\n\nLet's do that:",
      "metadata": {}
    },
    {
      "cell_type": "code",
      "source": "# create bins < 5409, < 10818 and 10818 >\ndeathSet$fame_group <- factor(findInterval(deathSet$fame_score, \n                                          c(0, 4, 8)))\n# assigning corresponding names\nlevels(deathSet$fame_group) <- c(\"locally famous\", \"famous\", \"worldwide famous\")",
      "execution_count": null,
      "outputs": [],
      "metadata": {}
    },
    {
      "cell_type": "markdown",
      "source": "By the way, you are welcome to suggest your threshold for the classifier. This was just one way of doing it.\n\nFinally, let's check the composition of the fame_group column:",
      "metadata": {}
    },
    {
      "cell_type": "code",
      "source": "# these palettes com from great wesanderson package\ncolor_theme2 <- scale_fill_manual(values = wes_palette(n = 3, \n                                                       name = \"Zissou\"))\nggplot(deathSet, \n       aes(x = factor(1), \n           fill = fame_group)) +\n  geom_bar(width = 3) +\n  coord_polar(theta = \"y\") +\n  labs(fill= \"Fame group\") +\n  color_theme2 +\n  labs(title = \"Distribution (of deaths) per fame group\",\n       x = NULL,\n       y = NULL) +\n  text_theme",
      "execution_count": null,
      "outputs": [],
      "metadata": {}
    },
    {
      "cell_type": "markdown",
      "source": "As we can see, the majority of celebrities who died during these last ten years were locally famous.",
      "metadata": {}
    },
    {
      "cell_type": "markdown",
      "source": "**3. Key feature: celebrity age**\n\nAs always, let's check numbers first:",
      "metadata": {}
    },
    {
      "cell_type": "code",
      "source": "summary(deathSet$age)",
      "execution_count": null,
      "outputs": [],
      "metadata": {}
    },
    {
      "cell_type": "markdown",
      "source": "Well, that's not right. Let's create age bins in order to manage ages a bit easier and sort non-relevant data:",
      "metadata": {}
    },
    {
      "cell_type": "code",
      "source": "# convert non relevant data into NA's\ndeathSet$age[deathSet$age > 109 | deathSet$age < 20] <- NA\n\n# create bins [20, 40), [40, 60) and so on\n# last bin will be a bit bigger [80, 110) to make it more realistic\ndeathSet$age_group <- factor(findInterval(deathSet$age, \n                                          c(20, 40, 60, 80, 110)))\n\n\n# \"unknown\" for those who were < 20 and 100 >=\nlevels(deathSet$age_group) <- c(\"20-39\", \"40-59\", \"60-79\", \"80-109\")",
      "execution_count": null,
      "outputs": [],
      "metadata": {}
    },
    {
      "cell_type": "markdown",
      "source": "Let's see how fame groups are distributed per age categories:",
      "metadata": {}
    },
    {
      "cell_type": "code",
      "source": "# creating a \"clean\" plot by removing NA's bar\nggplot(subset(deathSet, !is.na(age_group)), \n       aes(x = reorder(age_group,\n                       age_group,\n                       function(x) -length(x)))) +\n  geom_bar(aes(fill = fame_group),\n           position = \"dodge\") +\n  text_theme +\n  color_theme2 +\n  labs(title = \"Fame groups by age category\", \n       x = \"Age groups\", \n       y = \"Number of deaths\")",
      "execution_count": null,
      "outputs": [],
      "metadata": {}
    },
    {
      "cell_type": "markdown",
      "source": "As we saw before locally famous people represent the majority, but in this case, they also lead almost each age category. This exception is the age category of 20-39 where the leading group is  “worldwide famous” celebrities.\n\nLet's take only the worldwide famous group and compare two different age categories in it, below and above 60, by plotting death causes over the given period of time:",
      "metadata": {}
    },
    {
      "cell_type": "code",
      "source": "# death causes for worldwide famous aged 60+\nggplot(deathSet %>% filter(fame_group == \"worldwide famous\" & age_group == c(\"60-79\", \"80-99\")), \n       aes(x = death_year)) +\n  geom_bar(aes(fill = cause_group), \n           stat = \"count\") +\n  text_theme +\n  color_theme +\n  labs(title = \"Worldwide famous: death causes above 60\", \n       x = \"Age group\", \n       y = \"Number of deaths\") \n\n# death causes for worldwide famous for < 60\nggplot(deathSet %>% filter(fame_group == \"worldwide famous\" & age_group == c(\"20-39\", \"40-59\")), \n       aes(x = death_year)) +\n  geom_bar(aes(fill = cause_group), \n           stat = \"count\") +\n  text_theme +\n  color_theme +\n  labs(title = \"Worldwide famous: death causes below 60\", \n       x = \"Age group\", \n       y = \"Number of deaths\") +\n  coord_cartesian(ylim = c(0, 180))",
      "execution_count": null,
      "outputs": [],
      "metadata": {}
    },
    {
      "cell_type": "markdown",
      "source": "Notice that I have created two plots on the same scale to avoid any misunderstanding.\n\nWorldwide celebrities under the age of 60 do not seem to have Alzheimer’s/Parkinson's disease, this category is not even present, as both illnesses are age-related. On the other hand, suicides (years 2010 and 2011 particularly) are more prevalent for this age category.\n\nAs for the celebrities at the age of above 60, we notice that accidents have two \"popular\" years - 2012 and 2014. And 2016 year is remarkable by the high rate of deaths from pneumonia, comparing to precedent years.\n\nFor both plots, cancer and heart diseases are clear leaders. Though I would avoid concluding which of these causes is the main one.\n\nBelow is quite an obvious plot, but it will make a great transition to the last part of this analysis.",
      "metadata": {}
    },
    {
      "cell_type": "code",
      "source": "ggplot(subset(deathSet, !is.na(age_group)), \n       aes(x = reorder(age_group,\n                       age_group,\n                       function(x) -length(x)))) +\n  geom_bar(aes(fill = cause_group), \n           stat = \"count\") +\n  text_theme +\n  color_theme +\n  labs(title = \"Too old to be alive\", \n       x = \"Age group\", \n       y = \"Number of deaths\")",
      "execution_count": null,
      "outputs": [],
      "metadata": {}
    },
    {
      "cell_type": "markdown",
      "source": "The majority of deaths happens at senior ages (at 60 +), which is not a surprise.\n\nWhat is interesting, though, is that we miss almost twice as much information about death causes for celebrities aged 80+ than for the 60-79 group. Notice that both are almost of the same size.\n\nNatural death and death from Alzheimer's/Parkinson's disease become more of a reality for elder celebrities aged 80-99, which is logical too.\n\nWe also notice, that cancer seems to be a bigger problem for \"early\" seniors (age 60-79) than for other groups. ",
      "metadata": {}
    },
    {
      "cell_type": "markdown",
      "source": "<h3> Missing data  </h3>\n\nAs we have noticed before we lack quite a lot of data on the cause of death, but how much are we missing?\n\nThere is a good [alternative for Amelia missmap function suggested by Nicholas Tierney][1].  I share his code below. \n\n\n  [1]: http://www.njtierney.com/r/missing%20data/rbloggers/2015/12/01/ggplot-missing-data",
      "metadata": {}
    },
    {
      "cell_type": "code",
      "source": "ggplot_missing <- function(x) {\n  x %>% \n    is.na %>%\n    melt %>%\n    ggplot(data = .,\n           aes(x = Var2,\n               y = Var1)) +\n    geom_raster(aes(fill = value)) +\n    scale_fill_grey(name = \"\",\n                    labels = c(\"Present\",\"Missing\")) +\n    theme_minimal() + \n    theme(axis.text.x  = element_text(angle = 45, vjust = 0.5)) + \n    labs(x = \"Variables in Dataset\",\n         y = \"Rows / observations\")\n}\nggplot_missing(deathSet %>% \n                 select(-cause_of_death, -fame_score, -age))",
      "execution_count": null,
      "outputs": [],
      "metadata": {}
    },
    {
      "cell_type": "markdown",
      "source": "Wow! Apparently, more than 3/4 of the cause of death data is missing, which unfortunately might lead us to wrong conclusions.\n\nSuppose we want to know the most frequent cause of celebrity death for the given period:",
      "metadata": {}
    },
    {
      "cell_type": "code",
      "source": "ggplot(deathSet, aes(x = reorder(cause_group, \n                                 cause_group, \n                                 function(x) length(x)))) +\n  geom_bar(aes(fill = cause_group), \n           stat = \"count\") +\n  text_theme +\n  color_theme +\n  labs(title = \"Cancer - the leading cause of death? \", \n       x = \"Causes of death\", \n       y = \"Number of deaths\") +\n  coord_flip() +\n  guides(fill = F)",
      "execution_count": null,
      "outputs": [],
      "metadata": {}
    },
    {
      "cell_type": "markdown",
      "source": "Even though the \"cancer\" seems to be a leader among known causes, we can not be sure that it is true in reality. It could not be a good idea to rush into conclusions, mostly for such a sensitive topic.\n\nWe might not know (for now at least) if some information was hidden on purpose or it was a mis-crawled information, which is very possible, but let's suppose that at least 1/4 of missing data contains heart disease. In this case, the second most common cause easily takes the first place instead.\n\nSome may argue about remaining data that we have: it is still big enough to be indicative of the whole cause of death picture. But personally, I would not want to place a shadow on other death causes by highlighting the most frequent one. \n\nIn order to obtain some certainty, we could try to improve the classifier of each category, minimizing the 'other' group. But again we would be left with a huge amount of missing data.\n\nSo am I saying that we can not conclude anything, given this large amount of missing data? Of course not. We usually base an analysis on subsets of population. Otherwise, it would be simply unmanageable. \nThe main point here, I think, is to examine every possibility, before jumping to conclusions.",
      "metadata": {}
    },
    {
      "cell_type": "markdown",
      "source": "____________________________________________________________________________________________________________________________",
      "metadata": {}
    },
    {
      "cell_type": "markdown",
      "source": "**Would you like to see more Kernels like this one? Leave an upvote then ;)**\n\n<br>\n*Datageekette*",
      "metadata": {}
    }
  ]
}
